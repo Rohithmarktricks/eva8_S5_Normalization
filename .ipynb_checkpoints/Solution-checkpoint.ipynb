{
 "cells": [
  {
   "cell_type": "code",
   "execution_count": 31,
   "id": "54d4c494",
   "metadata": {},
   "outputs": [],
   "source": [
    "from model import get_model\n",
    "from train_helper import BN_Trainer, Trainer, get_misclassified_images\n",
    "# from trainer import Trainer\n",
    "from __future__ import print_function\n",
    "import torch\n",
    "import torch.nn as nn\n",
    "import torch.nn.functional as F\n",
    "import torch.optim as optim\n",
    "from torchvision import datasets, transforms\n",
    "import numpy as np\n",
    "from torchsummary import summary\n",
    "import matplotlib.pyplot as plt\n",
    "%matplotlib inline"
   ]
  },
  {
   "cell_type": "code",
   "execution_count": 32,
   "id": "bb59eb96",
   "metadata": {},
   "outputs": [],
   "source": [
    "# Train Phase transformations\n",
    "train_transforms = transforms.Compose([\n",
    "                                      #  transforms.Resize((28, 28)),\n",
    "                                      #  transforms.ColorJitter(brightness=0.10, contrast=0.1, saturation=0.10, hue=0.1),\n",
    "                                       transforms.RandomRotation((-7.0, 7.0), fill=(1,)),\n",
    "                                       transforms.ToTensor(),\n",
    "                                       transforms.Normalize((0.1307,), (0.3081,)) # The mean and std have to be sequences (e.g., tuples), therefore you should add a comma after the values. \n",
    "                                       # Note the difference between (0.1307) and (0.1307,)\n",
    "                                       ])\n",
    "\n",
    "# Test Phase transformations\n",
    "test_transforms = transforms.Compose([\n",
    "                                      #  transforms.Resize((28, 28)),\n",
    "                                      #  transforms.ColorJitter(brightness=0.10, contrast=0.1, saturation=0.10, hue=0.1),\n",
    "                                       transforms.ToTensor(),\n",
    "                                       transforms.Normalize((0.1307,), (0.3081,))\n",
    "                                       ])\n"
   ]
  },
  {
   "cell_type": "code",
   "execution_count": 33,
   "id": "50290ed4",
   "metadata": {},
   "outputs": [],
   "source": [
    "train = datasets.MNIST('./data', train=True, download=True, transform=train_transforms)\n",
    "test = datasets.MNIST('./data', train=False, download=True, transform=test_transforms)"
   ]
  },
  {
   "cell_type": "code",
   "execution_count": 34,
   "id": "b5941455",
   "metadata": {},
   "outputs": [
    {
     "name": "stdout",
     "output_type": "stream",
     "text": [
      "CUDA Available? True\n"
     ]
    }
   ],
   "source": [
    "SEED = 1\n",
    "\n",
    "# CUDA?\n",
    "cuda = torch.cuda.is_available()\n",
    "print(\"CUDA Available?\", cuda)\n",
    "\n",
    "# For reproducibility\n",
    "torch.manual_seed(SEED)\n",
    "\n",
    "if cuda:\n",
    "    torch.cuda.manual_seed(SEED)\n",
    "\n",
    "# dataloader arguments - something you'll fetch these from cmdprmt\n",
    "dataloader_args = dict(shuffle=True, batch_size=128, num_workers=4, pin_memory=True) if cuda else dict(shuffle=True, batch_size=64)\n",
    "\n",
    "# train dataloader\n",
    "train_loader = torch.utils.data.DataLoader(train, **dataloader_args)\n",
    "\n",
    "# test dataloader\n",
    "test_loader = torch.utils.data.DataLoader(test, **dataloader_args)"
   ]
  },
  {
   "cell_type": "code",
   "execution_count": 35,
   "id": "e6be238b",
   "metadata": {},
   "outputs": [
    {
     "name": "stdout",
     "output_type": "stream",
     "text": [
      "cuda\n"
     ]
    }
   ],
   "source": [
    "use_cuda = torch.cuda.is_available()\n",
    "device = torch.device(\"cuda\" if use_cuda else \"cpu\")\n",
    "print(device)\n",
    "# model = BatchNormCNN().to(device)\n",
    "# summary(model, input_size=(1, 28, 28))"
   ]
  },
  {
   "cell_type": "code",
   "execution_count": 36,
   "id": "bdab17fc",
   "metadata": {},
   "outputs": [
    {
     "name": "stdout",
     "output_type": "stream",
     "text": [
      "----------------------------------------------------------------\n",
      "        Layer (type)               Output Shape         Param #\n",
      "================================================================\n",
      "            Conv2d-1           [-1, 16, 26, 26]             144\n",
      "              ReLU-2           [-1, 16, 26, 26]               0\n",
      "       BatchNorm2d-3           [-1, 16, 26, 26]              32\n",
      "           Dropout-4           [-1, 16, 26, 26]               0\n",
      "            Conv2d-5           [-1, 16, 24, 24]           2,304\n",
      "              ReLU-6           [-1, 16, 24, 24]               0\n",
      "       BatchNorm2d-7           [-1, 16, 24, 24]              32\n",
      "           Dropout-8           [-1, 16, 24, 24]               0\n",
      "            Conv2d-9           [-1, 10, 24, 24]             160\n",
      "        MaxPool2d-10           [-1, 10, 12, 12]               0\n",
      "           Conv2d-11           [-1, 16, 10, 10]           1,440\n",
      "             ReLU-12           [-1, 16, 10, 10]               0\n",
      "      BatchNorm2d-13           [-1, 16, 10, 10]              32\n",
      "          Dropout-14           [-1, 16, 10, 10]               0\n",
      "           Conv2d-15             [-1, 16, 8, 8]           2,304\n",
      "             ReLU-16             [-1, 16, 8, 8]               0\n",
      "      BatchNorm2d-17             [-1, 16, 8, 8]              32\n",
      "          Dropout-18             [-1, 16, 8, 8]               0\n",
      "           Conv2d-19             [-1, 10, 6, 6]           1,440\n",
      "             ReLU-20             [-1, 10, 6, 6]               0\n",
      "      BatchNorm2d-21             [-1, 10, 6, 6]              20\n",
      "          Dropout-22             [-1, 10, 6, 6]               0\n",
      "           Conv2d-23             [-1, 10, 6, 6]             900\n",
      "             ReLU-24             [-1, 10, 6, 6]               0\n",
      "      BatchNorm2d-25             [-1, 10, 6, 6]              20\n",
      "          Dropout-26             [-1, 10, 6, 6]               0\n",
      "        AvgPool2d-27             [-1, 10, 1, 1]               0\n",
      "           Conv2d-28             [-1, 10, 1, 1]             100\n",
      "================================================================\n",
      "Total params: 8,960\n",
      "Trainable params: 8,960\n",
      "Non-trainable params: 0\n",
      "----------------------------------------------------------------\n",
      "Input size (MB): 0.00\n",
      "Forward/backward pass size (MB): 0.77\n",
      "Params size (MB): 0.03\n",
      "Estimated Total Size (MB): 0.81\n",
      "----------------------------------------------------------------\n"
     ]
    }
   ],
   "source": [
    "model_bn = get_model(\"BN\").to(device)\n",
    "summary(model_bn, input_size=(1, 28, 28))"
   ]
  },
  {
   "cell_type": "code",
   "execution_count": 37,
   "id": "dff998ce",
   "metadata": {},
   "outputs": [],
   "source": [
    "bn_trainer = BN_Trainer(model_bn)"
   ]
  },
  {
   "cell_type": "code",
   "execution_count": 38,
   "id": "2c1efaf7",
   "metadata": {},
   "outputs": [
    {
     "name": "stdout",
     "output_type": "stream",
     "text": [
      "EPOCH: 0\n"
     ]
    },
    {
     "name": "stderr",
     "output_type": "stream",
     "text": [
      "Loss=0.1508595496416092 Batch_id=468 Accuracy=82.61: 100%|███████████████████████████| 469/469 [00:08<00:00, 57.04it/s]\n"
     ]
    },
    {
     "name": "stdout",
     "output_type": "stream",
     "text": [
      "\n",
      "Test set: Average loss: 0.1878, Accuracy: 9752/10000 (97.52%)\n",
      "\n",
      "EPOCH: 1\n"
     ]
    },
    {
     "name": "stderr",
     "output_type": "stream",
     "text": [
      "Loss=0.03887411579489708 Batch_id=468 Accuracy=96.68: 100%|██████████████████████████| 469/469 [00:07<00:00, 59.71it/s]\n"
     ]
    },
    {
     "name": "stdout",
     "output_type": "stream",
     "text": [
      "\n",
      "Test set: Average loss: 0.1225, Accuracy: 9809/10000 (98.09%)\n",
      "\n",
      "EPOCH: 2\n"
     ]
    },
    {
     "name": "stderr",
     "output_type": "stream",
     "text": [
      "Loss=0.06496250629425049 Batch_id=468 Accuracy=97.46: 100%|██████████████████████████| 469/469 [00:07<00:00, 61.31it/s]\n"
     ]
    },
    {
     "name": "stdout",
     "output_type": "stream",
     "text": [
      "\n",
      "Test set: Average loss: 0.0819, Accuracy: 9881/10000 (98.81%)\n",
      "\n",
      "EPOCH: 3\n"
     ]
    },
    {
     "name": "stderr",
     "output_type": "stream",
     "text": [
      "Loss=0.07670800387859344 Batch_id=468 Accuracy=97.96: 100%|██████████████████████████| 469/469 [00:08<00:00, 58.24it/s]\n"
     ]
    },
    {
     "name": "stdout",
     "output_type": "stream",
     "text": [
      "\n",
      "Test set: Average loss: 0.0880, Accuracy: 9882/10000 (98.82%)\n",
      "\n",
      "EPOCH: 4\n"
     ]
    },
    {
     "name": "stderr",
     "output_type": "stream",
     "text": [
      "Loss=0.1629219949245453 Batch_id=468 Accuracy=98.16: 100%|███████████████████████████| 469/469 [00:07<00:00, 59.81it/s]\n"
     ]
    },
    {
     "name": "stdout",
     "output_type": "stream",
     "text": [
      "\n",
      "Test set: Average loss: 0.0671, Accuracy: 9893/10000 (98.93%)\n",
      "\n",
      "EPOCH: 5\n"
     ]
    },
    {
     "name": "stderr",
     "output_type": "stream",
     "text": [
      "Loss=0.13251256942749023 Batch_id=468 Accuracy=98.34: 100%|██████████████████████████| 469/469 [00:07<00:00, 60.23it/s]\n"
     ]
    },
    {
     "name": "stdout",
     "output_type": "stream",
     "text": [
      "\n",
      "Test set: Average loss: 0.0525, Accuracy: 9916/10000 (99.16%)\n",
      "\n",
      "EPOCH: 6\n"
     ]
    },
    {
     "name": "stderr",
     "output_type": "stream",
     "text": [
      "Loss=0.02880786545574665 Batch_id=468 Accuracy=98.47: 100%|██████████████████████████| 469/469 [00:07<00:00, 60.94it/s]\n"
     ]
    },
    {
     "name": "stdout",
     "output_type": "stream",
     "text": [
      "\n",
      "Test set: Average loss: 0.0470, Accuracy: 9924/10000 (99.24%)\n",
      "\n",
      "EPOCH: 7\n"
     ]
    },
    {
     "name": "stderr",
     "output_type": "stream",
     "text": [
      "Loss=0.044464290142059326 Batch_id=468 Accuracy=98.52: 100%|█████████████████████████| 469/469 [00:07<00:00, 59.51it/s]\n"
     ]
    },
    {
     "name": "stdout",
     "output_type": "stream",
     "text": [
      "\n",
      "Test set: Average loss: 0.0501, Accuracy: 9915/10000 (99.15%)\n",
      "\n",
      "EPOCH: 8\n"
     ]
    },
    {
     "name": "stderr",
     "output_type": "stream",
     "text": [
      "Loss=0.03894403949379921 Batch_id=468 Accuracy=98.58: 100%|██████████████████████████| 469/469 [00:07<00:00, 65.44it/s]\n"
     ]
    },
    {
     "name": "stdout",
     "output_type": "stream",
     "text": [
      "\n",
      "Test set: Average loss: 0.0571, Accuracy: 9919/10000 (99.19%)\n",
      "\n",
      "EPOCH: 9\n"
     ]
    },
    {
     "name": "stderr",
     "output_type": "stream",
     "text": [
      "Loss=0.06941293179988861 Batch_id=468 Accuracy=98.67: 100%|██████████████████████████| 469/469 [00:07<00:00, 59.47it/s]\n"
     ]
    },
    {
     "name": "stdout",
     "output_type": "stream",
     "text": [
      "\n",
      "Test set: Average loss: 0.0532, Accuracy: 9918/10000 (99.18%)\n",
      "\n",
      "EPOCH: 10\n"
     ]
    },
    {
     "name": "stderr",
     "output_type": "stream",
     "text": [
      "Loss=0.02086283080279827 Batch_id=468 Accuracy=98.64: 100%|██████████████████████████| 469/469 [00:07<00:00, 61.20it/s]\n"
     ]
    },
    {
     "name": "stdout",
     "output_type": "stream",
     "text": [
      "\n",
      "Test set: Average loss: 0.0494, Accuracy: 9925/10000 (99.25%)\n",
      "\n",
      "EPOCH: 11\n"
     ]
    },
    {
     "name": "stderr",
     "output_type": "stream",
     "text": [
      "Loss=0.05510719120502472 Batch_id=468 Accuracy=98.72: 100%|██████████████████████████| 469/469 [00:07<00:00, 59.95it/s]\n"
     ]
    },
    {
     "name": "stdout",
     "output_type": "stream",
     "text": [
      "\n",
      "Test set: Average loss: 0.0524, Accuracy: 9923/10000 (99.23%)\n",
      "\n",
      "EPOCH: 12\n"
     ]
    },
    {
     "name": "stderr",
     "output_type": "stream",
     "text": [
      "Loss=0.06823434680700302 Batch_id=468 Accuracy=98.74: 100%|██████████████████████████| 469/469 [00:07<00:00, 59.98it/s]\n"
     ]
    },
    {
     "name": "stdout",
     "output_type": "stream",
     "text": [
      "\n",
      "Test set: Average loss: 0.0582, Accuracy: 9923/10000 (99.23%)\n",
      "\n",
      "EPOCH: 13\n"
     ]
    },
    {
     "name": "stderr",
     "output_type": "stream",
     "text": [
      "Loss=0.03229363635182381 Batch_id=468 Accuracy=98.78: 100%|██████████████████████████| 469/469 [00:08<00:00, 57.32it/s]\n"
     ]
    },
    {
     "name": "stdout",
     "output_type": "stream",
     "text": [
      "\n",
      "Test set: Average loss: 0.0413, Accuracy: 9932/10000 (99.32%)\n",
      "\n",
      "EPOCH: 14\n"
     ]
    },
    {
     "name": "stderr",
     "output_type": "stream",
     "text": [
      "Loss=0.02680875174701214 Batch_id=468 Accuracy=98.81: 100%|██████████████████████████| 469/469 [00:08<00:00, 58.35it/s]\n"
     ]
    },
    {
     "name": "stdout",
     "output_type": "stream",
     "text": [
      "\n",
      "Test set: Average loss: 0.0389, Accuracy: 9926/10000 (99.26%)\n",
      "\n",
      "EPOCH: 15\n"
     ]
    },
    {
     "name": "stderr",
     "output_type": "stream",
     "text": [
      "Loss=0.12597577273845673 Batch_id=468 Accuracy=98.80: 100%|██████████████████████████| 469/469 [00:08<00:00, 58.48it/s]\n"
     ]
    },
    {
     "name": "stdout",
     "output_type": "stream",
     "text": [
      "\n",
      "Test set: Average loss: 0.0379, Accuracy: 9919/10000 (99.19%)\n",
      "\n",
      "EPOCH: 16\n"
     ]
    },
    {
     "name": "stderr",
     "output_type": "stream",
     "text": [
      "Loss=0.007508300710469484 Batch_id=468 Accuracy=98.86: 100%|█████████████████████████| 469/469 [00:08<00:00, 57.93it/s]\n"
     ]
    },
    {
     "name": "stdout",
     "output_type": "stream",
     "text": [
      "\n",
      "Test set: Average loss: 0.0486, Accuracy: 9935/10000 (99.35%)\n",
      "\n",
      "EPOCH: 17\n"
     ]
    },
    {
     "name": "stderr",
     "output_type": "stream",
     "text": [
      "Loss=0.007201584987342358 Batch_id=468 Accuracy=98.88: 100%|█████████████████████████| 469/469 [00:07<00:00, 59.04it/s]\n"
     ]
    },
    {
     "name": "stdout",
     "output_type": "stream",
     "text": [
      "\n",
      "Test set: Average loss: 0.0742, Accuracy: 9925/10000 (99.25%)\n",
      "\n",
      "EPOCH: 18\n"
     ]
    },
    {
     "name": "stderr",
     "output_type": "stream",
     "text": [
      "Loss=0.022308405488729477 Batch_id=468 Accuracy=98.91: 100%|█████████████████████████| 469/469 [00:08<00:00, 57.93it/s]\n"
     ]
    },
    {
     "name": "stdout",
     "output_type": "stream",
     "text": [
      "\n",
      "Test set: Average loss: 0.0333, Accuracy: 9931/10000 (99.31%)\n",
      "\n",
      "EPOCH: 19\n"
     ]
    },
    {
     "name": "stderr",
     "output_type": "stream",
     "text": [
      "Loss=0.02944166772067547 Batch_id=468 Accuracy=98.89: 100%|██████████████████████████| 469/469 [00:07<00:00, 61.03it/s]\n"
     ]
    },
    {
     "name": "stdout",
     "output_type": "stream",
     "text": [
      "\n",
      "Test set: Average loss: 0.0422, Accuracy: 9933/10000 (99.33%)\n",
      "\n"
     ]
    }
   ],
   "source": [
    "from torch.optim.lr_scheduler import StepLR, LambdaLR\n",
    "\n",
    "optimizer = optim.SGD(model_bn.parameters(), lr=0.01, momentum=0.9)\n",
    "# scheduler = StepLR(optimizer, step_size=4, gamma=0.1)\n",
    "scheduler = torch.optim.lr_scheduler.MultiStepLR(optimizer, milestones=[6,8,9], gamma=0.1)\n",
    "\n",
    "EPOCHS = 20\n",
    "for epoch in range(EPOCHS):\n",
    "    print(\"EPOCH:\", epoch)\n",
    "    bn_trainer.train_bn(device, train_loader, optimizer, epoch)\n",
    "    bn_trainer.test_bn(device, test_loader)"
   ]
  },
  {
   "cell_type": "code",
   "execution_count": 41,
   "id": "133f8326",
   "metadata": {},
   "outputs": [],
   "source": [
    "bn_train_losses, bn_train_acc, bn_test_losses, bn_test_acc = bn_trainer.get_stats()"
   ]
  },
  {
   "cell_type": "code",
   "execution_count": 42,
   "id": "91c7181c",
   "metadata": {},
   "outputs": [],
   "source": [
    "bn_misclassified_preds = get_misclassified_images(model_bn, device, test_loader)"
   ]
  },
  {
   "cell_type": "code",
   "execution_count": 43,
   "id": "44915915",
   "metadata": {},
   "outputs": [
    {
     "data": {
      "image/png": "[encoded data removed]",
      "text/plain": [
       "<Figure size 800x800 with 10 Axes>"
      ]
     },
     "metadata": {},
     "output_type": "display_data"
    }
   ],
   "source": [
    "import numpy as np\n",
    "fig, axs = plt.subplots(5, 2, figsize=(8,8),squeeze=False )\n",
    "fig.tight_layout(h_pad=2)\n",
    "idx = 0\n",
    "keys_list = iter(list(bn_misclassified_preds.keys()))\n",
    "for i in range(5):\n",
    "    for j in range(2):\n",
    "        idx = next(keys_list)\n",
    "        axs[i, j].imshow(np.transpose(bn_misclassified_preds[idx][0], (1,2,0)), cmap='gray')\n",
    "        axs[i, j].axis('off')\n",
    "        axs[i, j].set_title(f'True Label: {bn_misclassified_preds[idx][1]}\\n Pred Label:{bn_misclassified_preds[idx][2].item()}')\n",
    "        "
   ]
  },
  {
   "cell_type": "code",
   "execution_count": null,
   "id": "47da466a",
   "metadata": {},
   "outputs": [],
   "source": []
  },
  {
   "cell_type": "code",
   "execution_count": null,
   "id": "29771882",
   "metadata": {},
   "outputs": [],
   "source": []
  },
  {
   "cell_type": "code",
   "execution_count": null,
   "id": "e89c41bf",
   "metadata": {},
   "outputs": [],
   "source": []
  },
  {
   "cell_type": "code",
   "execution_count": 15,
   "id": "f7ef453f",
   "metadata": {},
   "outputs": [
    {
     "name": "stdout",
     "output_type": "stream",
     "text": [
      "----------------------------------------------------------------\n",
      "        Layer (type)               Output Shape         Param #\n",
      "================================================================\n",
      "            Conv2d-1           [-1, 16, 26, 26]             144\n",
      "              ReLU-2           [-1, 16, 26, 26]               0\n",
      "         LayerNorm-3           [-1, 16, 26, 26]          21,632\n",
      "           Dropout-4           [-1, 16, 26, 26]               0\n",
      "            Conv2d-5           [-1, 16, 24, 24]           2,304\n",
      "              ReLU-6           [-1, 16, 24, 24]               0\n",
      "         LayerNorm-7           [-1, 16, 24, 24]          18,432\n",
      "           Dropout-8           [-1, 16, 24, 24]               0\n",
      "            Conv2d-9           [-1, 10, 24, 24]             160\n",
      "        MaxPool2d-10           [-1, 10, 12, 12]               0\n",
      "           Conv2d-11           [-1, 16, 10, 10]           1,440\n",
      "             ReLU-12           [-1, 16, 10, 10]               0\n",
      "        LayerNorm-13           [-1, 16, 10, 10]           3,200\n",
      "          Dropout-14           [-1, 16, 10, 10]               0\n",
      "           Conv2d-15             [-1, 16, 8, 8]           2,304\n",
      "             ReLU-16             [-1, 16, 8, 8]               0\n",
      "        LayerNorm-17             [-1, 16, 8, 8]           2,048\n",
      "          Dropout-18             [-1, 16, 8, 8]               0\n",
      "           Conv2d-19             [-1, 10, 6, 6]           1,440\n",
      "             ReLU-20             [-1, 10, 6, 6]               0\n",
      "        LayerNorm-21             [-1, 10, 6, 6]             720\n",
      "          Dropout-22             [-1, 10, 6, 6]               0\n",
      "           Conv2d-23             [-1, 10, 6, 6]             900\n",
      "             ReLU-24             [-1, 10, 6, 6]               0\n",
      "        LayerNorm-25             [-1, 10, 6, 6]             720\n",
      "          Dropout-26             [-1, 10, 6, 6]               0\n",
      "        AvgPool2d-27             [-1, 10, 1, 1]               0\n",
      "           Conv2d-28             [-1, 10, 1, 1]             100\n",
      "================================================================\n",
      "Total params: 55,544\n",
      "Trainable params: 55,544\n",
      "Non-trainable params: 0\n",
      "----------------------------------------------------------------\n",
      "Input size (MB): 0.00\n",
      "Forward/backward pass size (MB): 0.77\n",
      "Params size (MB): 0.21\n",
      "Estimated Total Size (MB): 0.98\n",
      "----------------------------------------------------------------\n"
     ]
    }
   ],
   "source": [
    "model_ln = get_model(\"LN\").to(device)\n",
    "summary(model_ln, input_size=(1, 28, 28))"
   ]
  },
  {
   "cell_type": "code",
   "execution_count": 16,
   "id": "4976e2be",
   "metadata": {},
   "outputs": [],
   "source": [
    "ln_trainer = Trainer(model_ln)"
   ]
  },
  {
   "cell_type": "code",
   "execution_count": 11,
   "id": "75c5765b",
   "metadata": {},
   "outputs": [
    {
     "name": "stdout",
     "output_type": "stream",
     "text": [
      "EPOCH: 0\n"
     ]
    },
    {
     "name": "stderr",
     "output_type": "stream",
     "text": [
      "Loss=0.3170081675052643 Batch_id=468 Accuracy=80.15: 100%|███████████████████████████| 469/469 [00:08<00:00, 53.25it/s]\n"
     ]
    },
    {
     "name": "stdout",
     "output_type": "stream",
     "text": [
      "\n",
      "Test set: Average loss: 0.1483, Accuracy: 9731/10000 (97.31%)\n",
      "\n",
      "EPOCH: 1\n"
     ]
    },
    {
     "name": "stderr",
     "output_type": "stream",
     "text": [
      "Loss=0.05866584554314613 Batch_id=468 Accuracy=96.45: 100%|██████████████████████████| 469/469 [00:06<00:00, 76.61it/s]\n"
     ]
    },
    {
     "name": "stdout",
     "output_type": "stream",
     "text": [
      "\n",
      "Test set: Average loss: 0.0891, Accuracy: 9783/10000 (97.83%)\n",
      "\n",
      "EPOCH: 2\n"
     ]
    },
    {
     "name": "stderr",
     "output_type": "stream",
     "text": [
      "Loss=0.10012143105268478 Batch_id=468 Accuracy=97.42: 100%|██████████████████████████| 469/469 [00:06<00:00, 73.79it/s]\n"
     ]
    },
    {
     "name": "stdout",
     "output_type": "stream",
     "text": [
      "\n",
      "Test set: Average loss: 0.0598, Accuracy: 9839/10000 (98.39%)\n",
      "\n",
      "EPOCH: 3\n"
     ]
    },
    {
     "name": "stderr",
     "output_type": "stream",
     "text": [
      "Loss=0.18317155539989471 Batch_id=468 Accuracy=97.80: 100%|██████████████████████████| 469/469 [00:06<00:00, 77.20it/s]\n"
     ]
    },
    {
     "name": "stdout",
     "output_type": "stream",
     "text": [
      "\n",
      "Test set: Average loss: 0.0443, Accuracy: 9887/10000 (98.87%)\n",
      "\n",
      "EPOCH: 4\n"
     ]
    },
    {
     "name": "stderr",
     "output_type": "stream",
     "text": [
      "Loss=0.03692584112286568 Batch_id=468 Accuracy=98.03: 100%|██████████████████████████| 469/469 [00:06<00:00, 74.97it/s]\n"
     ]
    },
    {
     "name": "stdout",
     "output_type": "stream",
     "text": [
      "\n",
      "Test set: Average loss: 0.0375, Accuracy: 9905/10000 (99.05%)\n",
      "\n",
      "EPOCH: 5\n"
     ]
    },
    {
     "name": "stderr",
     "output_type": "stream",
     "text": [
      "Loss=0.019735585898160934 Batch_id=468 Accuracy=98.25: 100%|█████████████████████████| 469/469 [00:06<00:00, 76.44it/s]\n"
     ]
    },
    {
     "name": "stdout",
     "output_type": "stream",
     "text": [
      "\n",
      "Test set: Average loss: 0.0396, Accuracy: 9899/10000 (98.99%)\n",
      "\n",
      "EPOCH: 6\n"
     ]
    },
    {
     "name": "stderr",
     "output_type": "stream",
     "text": [
      "Loss=0.02190476469695568 Batch_id=468 Accuracy=98.36: 100%|██████████████████████████| 469/469 [00:06<00:00, 75.65it/s]\n"
     ]
    },
    {
     "name": "stdout",
     "output_type": "stream",
     "text": [
      "\n",
      "Test set: Average loss: 0.0340, Accuracy: 9907/10000 (99.07%)\n",
      "\n",
      "EPOCH: 7\n"
     ]
    },
    {
     "name": "stderr",
     "output_type": "stream",
     "text": [
      "Loss=0.030349595472216606 Batch_id=468 Accuracy=98.51: 100%|█████████████████████████| 469/469 [00:07<00:00, 66.01it/s]\n"
     ]
    },
    {
     "name": "stdout",
     "output_type": "stream",
     "text": [
      "\n",
      "Test set: Average loss: 0.0382, Accuracy: 9897/10000 (98.97%)\n",
      "\n",
      "EPOCH: 8\n"
     ]
    },
    {
     "name": "stderr",
     "output_type": "stream",
     "text": [
      "Loss=0.06483634561300278 Batch_id=468 Accuracy=98.50: 100%|██████████████████████████| 469/469 [00:06<00:00, 69.97it/s]\n"
     ]
    },
    {
     "name": "stdout",
     "output_type": "stream",
     "text": [
      "\n",
      "Test set: Average loss: 0.0299, Accuracy: 9918/10000 (99.18%)\n",
      "\n",
      "EPOCH: 9\n"
     ]
    },
    {
     "name": "stderr",
     "output_type": "stream",
     "text": [
      "Loss=0.05503762885928154 Batch_id=468 Accuracy=98.62: 100%|██████████████████████████| 469/469 [00:06<00:00, 76.25it/s]\n"
     ]
    },
    {
     "name": "stdout",
     "output_type": "stream",
     "text": [
      "\n",
      "Test set: Average loss: 0.0319, Accuracy: 9917/10000 (99.17%)\n",
      "\n",
      "EPOCH: 10\n"
     ]
    },
    {
     "name": "stderr",
     "output_type": "stream",
     "text": [
      "Loss=0.02358214743435383 Batch_id=468 Accuracy=98.75: 100%|██████████████████████████| 469/469 [00:06<00:00, 75.12it/s]\n"
     ]
    },
    {
     "name": "stdout",
     "output_type": "stream",
     "text": [
      "\n",
      "Test set: Average loss: 0.0254, Accuracy: 9928/10000 (99.28%)\n",
      "\n",
      "EPOCH: 11\n"
     ]
    },
    {
     "name": "stderr",
     "output_type": "stream",
     "text": [
      "Loss=0.056017909198999405 Batch_id=468 Accuracy=98.68: 100%|█████████████████████████| 469/469 [00:06<00:00, 71.85it/s]\n"
     ]
    },
    {
     "name": "stdout",
     "output_type": "stream",
     "text": [
      "\n",
      "Test set: Average loss: 0.0227, Accuracy: 9937/10000 (99.37%)\n",
      "\n",
      "EPOCH: 12\n"
     ]
    },
    {
     "name": "stderr",
     "output_type": "stream",
     "text": [
      "Loss=0.01376273948699236 Batch_id=468 Accuracy=98.80: 100%|██████████████████████████| 469/469 [00:06<00:00, 75.05it/s]\n"
     ]
    },
    {
     "name": "stdout",
     "output_type": "stream",
     "text": [
      "\n",
      "Test set: Average loss: 0.0258, Accuracy: 9922/10000 (99.22%)\n",
      "\n",
      "EPOCH: 13\n"
     ]
    },
    {
     "name": "stderr",
     "output_type": "stream",
     "text": [
      "Loss=0.04237252101302147 Batch_id=468 Accuracy=98.83: 100%|██████████████████████████| 469/469 [00:06<00:00, 71.22it/s]\n"
     ]
    },
    {
     "name": "stdout",
     "output_type": "stream",
     "text": [
      "\n",
      "Test set: Average loss: 0.0237, Accuracy: 9933/10000 (99.33%)\n",
      "\n",
      "EPOCH: 14\n"
     ]
    },
    {
     "name": "stderr",
     "output_type": "stream",
     "text": [
      "Loss=0.008418623358011246 Batch_id=468 Accuracy=98.83: 100%|█████████████████████████| 469/469 [00:07<00:00, 66.44it/s]\n"
     ]
    },
    {
     "name": "stdout",
     "output_type": "stream",
     "text": [
      "\n",
      "Test set: Average loss: 0.0254, Accuracy: 9924/10000 (99.24%)\n",
      "\n",
      "EPOCH: 15\n"
     ]
    },
    {
     "name": "stderr",
     "output_type": "stream",
     "text": [
      "Loss=0.028092460706830025 Batch_id=468 Accuracy=98.81: 100%|█████████████████████████| 469/469 [00:06<00:00, 68.23it/s]\n"
     ]
    },
    {
     "name": "stdout",
     "output_type": "stream",
     "text": [
      "\n",
      "Test set: Average loss: 0.0242, Accuracy: 9926/10000 (99.26%)\n",
      "\n",
      "EPOCH: 16\n"
     ]
    },
    {
     "name": "stderr",
     "output_type": "stream",
     "text": [
      "Loss=0.09527838975191116 Batch_id=468 Accuracy=98.94: 100%|██████████████████████████| 469/469 [00:06<00:00, 71.09it/s]\n"
     ]
    },
    {
     "name": "stdout",
     "output_type": "stream",
     "text": [
      "\n",
      "Test set: Average loss: 0.0290, Accuracy: 9909/10000 (99.09%)\n",
      "\n",
      "EPOCH: 17\n"
     ]
    },
    {
     "name": "stderr",
     "output_type": "stream",
     "text": [
      "Loss=0.009046540595591068 Batch_id=468 Accuracy=98.89: 100%|█████████████████████████| 469/469 [00:06<00:00, 71.73it/s]\n"
     ]
    },
    {
     "name": "stdout",
     "output_type": "stream",
     "text": [
      "\n",
      "Test set: Average loss: 0.0207, Accuracy: 9938/10000 (99.38%)\n",
      "\n",
      "EPOCH: 18\n"
     ]
    },
    {
     "name": "stderr",
     "output_type": "stream",
     "text": [
      "Loss=0.04591794312000275 Batch_id=468 Accuracy=98.97: 100%|██████████████████████████| 469/469 [00:07<00:00, 66.18it/s]\n"
     ]
    },
    {
     "name": "stdout",
     "output_type": "stream",
     "text": [
      "\n",
      "Test set: Average loss: 0.0319, Accuracy: 9908/10000 (99.08%)\n",
      "\n",
      "EPOCH: 19\n"
     ]
    },
    {
     "name": "stderr",
     "output_type": "stream",
     "text": [
      "Loss=0.00695231044664979 Batch_id=468 Accuracy=98.93: 100%|██████████████████████████| 469/469 [00:06<00:00, 76.32it/s]\n"
     ]
    },
    {
     "name": "stdout",
     "output_type": "stream",
     "text": [
      "\n",
      "Test set: Average loss: 0.0230, Accuracy: 9929/10000 (99.29%)\n",
      "\n"
     ]
    }
   ],
   "source": [
    "from torch.optim.lr_scheduler import StepLR, LambdaLR\n",
    "\n",
    "optimizer2 = optim.SGD(model_ln.parameters(), lr=0.01, momentum=0.9)\n",
    "# scheduler = StepLR(optimizer, step_size=4, gamma=0.1)\n",
    "scheduler2 = torch.optim.lr_scheduler.MultiStepLR(optimizer2, milestones=[6,8,9], gamma=0.1)\n",
    "\n",
    "EPOCHS = 20\n",
    "for epoch in range(EPOCHS):\n",
    "    print(\"EPOCH:\", epoch)\n",
    "    ln_trainer.train(device, train_loader, optimizer2, epoch)\n",
    "    ln_trainer.test(device, test_loader)"
   ]
  },
  {
   "cell_type": "code",
   "execution_count": 17,
   "id": "e98bf3e8",
   "metadata": {},
   "outputs": [],
   "source": [
    "ln_train_losses, ln_train_acc, ln_test_losses, ln_test_acc = ln_trainer.get_stats()"
   ]
  },
  {
   "cell_type": "code",
   "execution_count": 17,
   "id": "1a799aa9",
   "metadata": {},
   "outputs": [],
   "source": [
    "ln_misclassified_preds = get_misclassified_images(model_ln, device, test_loader)"
   ]
  },
  {
   "cell_type": "code",
   "execution_count": 23,
   "id": "f02b9ff1",
   "metadata": {},
   "outputs": [
    {
     "data": {
      "image/png": "[encoded data removed]",
      "text/plain": [
       "<Figure size 800x800 with 10 Axes>"
      ]
     },
     "metadata": {},
     "output_type": "display_data"
    }
   ],
   "source": [
    "import numpy as np\n",
    "fig, axs = plt.subplots(5, 2, figsize=(8,8),squeeze=False )\n",
    "fig.tight_layout(h_pad=2)\n",
    "keys_list = iter(list(ln_misclassified_preds.keys()))\n",
    "for i in range(5):\n",
    "    for j in range(2):\n",
    "        idx = next(keys_list)\n",
    "        axs[i, j].imshow(np.transpose(ln_misclassified_preds[idx][0], (1,2,0)), cmap='gray')\n",
    "        axs[i, j].axis('off')\n",
    "        axs[i, j].set_title(f'True Label: {ln_misclassified_preds[idx][1]}\\n Pred Label:{ln_misclassified_preds[idx][2].item()}')\n",
    "        "
   ]
  },
  {
   "cell_type": "code",
   "execution_count": null,
   "id": "62b5c075",
   "metadata": {},
   "outputs": [],
   "source": []
  },
  {
   "cell_type": "code",
   "execution_count": 24,
   "id": "438814ba",
   "metadata": {},
   "outputs": [
    {
     "name": "stdout",
     "output_type": "stream",
     "text": [
      "----------------------------------------------------------------\n",
      "        Layer (type)               Output Shape         Param #\n",
      "================================================================\n",
      "            Conv2d-1           [-1, 16, 26, 26]             144\n",
      "              ReLU-2           [-1, 16, 26, 26]               0\n",
      "         GroupNorm-3           [-1, 16, 26, 26]              32\n",
      "           Dropout-4           [-1, 16, 26, 26]               0\n",
      "            Conv2d-5           [-1, 16, 24, 24]           2,304\n",
      "              ReLU-6           [-1, 16, 24, 24]               0\n",
      "         GroupNorm-7           [-1, 16, 24, 24]              32\n",
      "           Dropout-8           [-1, 16, 24, 24]               0\n",
      "            Conv2d-9           [-1, 10, 24, 24]             160\n",
      "        MaxPool2d-10           [-1, 10, 12, 12]               0\n",
      "           Conv2d-11           [-1, 16, 10, 10]           1,440\n",
      "             ReLU-12           [-1, 16, 10, 10]               0\n",
      "        GroupNorm-13           [-1, 16, 10, 10]              32\n",
      "          Dropout-14           [-1, 16, 10, 10]               0\n",
      "           Conv2d-15             [-1, 16, 8, 8]           2,304\n",
      "             ReLU-16             [-1, 16, 8, 8]               0\n",
      "        GroupNorm-17             [-1, 16, 8, 8]              32\n",
      "          Dropout-18             [-1, 16, 8, 8]               0\n",
      "           Conv2d-19             [-1, 10, 6, 6]           1,440\n",
      "             ReLU-20             [-1, 10, 6, 6]               0\n",
      "        GroupNorm-21             [-1, 10, 6, 6]              20\n",
      "          Dropout-22             [-1, 10, 6, 6]               0\n",
      "           Conv2d-23             [-1, 10, 6, 6]             900\n",
      "             ReLU-24             [-1, 10, 6, 6]               0\n",
      "        GroupNorm-25             [-1, 10, 6, 6]              20\n",
      "          Dropout-26             [-1, 10, 6, 6]               0\n",
      "        AvgPool2d-27             [-1, 10, 1, 1]               0\n",
      "           Conv2d-28             [-1, 10, 1, 1]             100\n",
      "================================================================\n",
      "Total params: 8,960\n",
      "Trainable params: 8,960\n",
      "Non-trainable params: 0\n",
      "----------------------------------------------------------------\n",
      "Input size (MB): 0.00\n",
      "Forward/backward pass size (MB): 0.77\n",
      "Params size (MB): 0.03\n",
      "Estimated Total Size (MB): 0.81\n",
      "----------------------------------------------------------------\n"
     ]
    }
   ],
   "source": [
    "model_gn = get_model(\"GN\").to(device)\n",
    "summary(model_gn, input_size=(1, 28, 28))"
   ]
  },
  {
   "cell_type": "code",
   "execution_count": 25,
   "id": "5e65e663",
   "metadata": {},
   "outputs": [],
   "source": [
    "gn_trainer = Trainer(model_gn)"
   ]
  },
  {
   "cell_type": "code",
   "execution_count": 15,
   "id": "f47907fa",
   "metadata": {},
   "outputs": [
    {
     "name": "stdout",
     "output_type": "stream",
     "text": [
      "EPOCH: 0\n"
     ]
    },
    {
     "name": "stderr",
     "output_type": "stream",
     "text": [
      "Loss=0.16735941171646118 Batch_id=468 Accuracy=80.38: 100%|██████████████████████████| 469/469 [00:06<00:00, 71.81it/s]\n"
     ]
    },
    {
     "name": "stdout",
     "output_type": "stream",
     "text": [
      "\n",
      "Test set: Average loss: 0.1108, Accuracy: 9720/10000 (97.20%)\n",
      "\n",
      "EPOCH: 1\n"
     ]
    },
    {
     "name": "stderr",
     "output_type": "stream",
     "text": [
      "Loss=0.0359715037047863 Batch_id=468 Accuracy=96.47: 100%|███████████████████████████| 469/469 [00:06<00:00, 68.50it/s]\n"
     ]
    },
    {
     "name": "stdout",
     "output_type": "stream",
     "text": [
      "\n",
      "Test set: Average loss: 0.0613, Accuracy: 9835/10000 (98.35%)\n",
      "\n",
      "EPOCH: 2\n"
     ]
    },
    {
     "name": "stderr",
     "output_type": "stream",
     "text": [
      "Loss=0.046922337263822556 Batch_id=468 Accuracy=97.37: 100%|█████████████████████████| 469/469 [00:06<00:00, 73.47it/s]\n"
     ]
    },
    {
     "name": "stdout",
     "output_type": "stream",
     "text": [
      "\n",
      "Test set: Average loss: 0.0439, Accuracy: 9885/10000 (98.85%)\n",
      "\n",
      "EPOCH: 3\n"
     ]
    },
    {
     "name": "stderr",
     "output_type": "stream",
     "text": [
      "Loss=0.04759221896529198 Batch_id=468 Accuracy=97.87: 100%|██████████████████████████| 469/469 [00:06<00:00, 70.65it/s]\n"
     ]
    },
    {
     "name": "stdout",
     "output_type": "stream",
     "text": [
      "\n",
      "Test set: Average loss: 0.0459, Accuracy: 9873/10000 (98.73%)\n",
      "\n",
      "EPOCH: 4\n"
     ]
    },
    {
     "name": "stderr",
     "output_type": "stream",
     "text": [
      "Loss=0.12874376773834229 Batch_id=468 Accuracy=98.19: 100%|██████████████████████████| 469/469 [00:06<00:00, 71.91it/s]\n"
     ]
    },
    {
     "name": "stdout",
     "output_type": "stream",
     "text": [
      "\n",
      "Test set: Average loss: 0.0371, Accuracy: 9897/10000 (98.97%)\n",
      "\n",
      "EPOCH: 5\n"
     ]
    },
    {
     "name": "stderr",
     "output_type": "stream",
     "text": [
      "Loss=0.0779808983206749 Batch_id=468 Accuracy=98.19: 100%|███████████████████████████| 469/469 [00:06<00:00, 71.63it/s]\n"
     ]
    },
    {
     "name": "stdout",
     "output_type": "stream",
     "text": [
      "\n",
      "Test set: Average loss: 0.0326, Accuracy: 9901/10000 (99.01%)\n",
      "\n",
      "EPOCH: 6\n"
     ]
    },
    {
     "name": "stderr",
     "output_type": "stream",
     "text": [
      "Loss=0.014000735245645046 Batch_id=468 Accuracy=98.32: 100%|█████████████████████████| 469/469 [00:06<00:00, 67.00it/s]\n"
     ]
    },
    {
     "name": "stdout",
     "output_type": "stream",
     "text": [
      "\n",
      "Test set: Average loss: 0.0382, Accuracy: 9892/10000 (98.92%)\n",
      "\n",
      "EPOCH: 7\n"
     ]
    },
    {
     "name": "stderr",
     "output_type": "stream",
     "text": [
      "Loss=0.04973709210753441 Batch_id=468 Accuracy=98.44: 100%|██████████████████████████| 469/469 [00:06<00:00, 71.76it/s]\n"
     ]
    },
    {
     "name": "stdout",
     "output_type": "stream",
     "text": [
      "\n",
      "Test set: Average loss: 0.0364, Accuracy: 9896/10000 (98.96%)\n",
      "\n",
      "EPOCH: 8\n"
     ]
    },
    {
     "name": "stderr",
     "output_type": "stream",
     "text": [
      "Loss=0.07125157117843628 Batch_id=468 Accuracy=98.56: 100%|██████████████████████████| 469/469 [00:06<00:00, 72.23it/s]\n"
     ]
    },
    {
     "name": "stdout",
     "output_type": "stream",
     "text": [
      "\n",
      "Test set: Average loss: 0.0402, Accuracy: 9874/10000 (98.74%)\n",
      "\n",
      "EPOCH: 9\n"
     ]
    },
    {
     "name": "stderr",
     "output_type": "stream",
     "text": [
      "Loss=0.021835075691342354 Batch_id=468 Accuracy=98.61: 100%|█████████████████████████| 469/469 [00:06<00:00, 73.34it/s]\n"
     ]
    },
    {
     "name": "stdout",
     "output_type": "stream",
     "text": [
      "\n",
      "Test set: Average loss: 0.0298, Accuracy: 9904/10000 (99.04%)\n",
      "\n",
      "EPOCH: 10\n"
     ]
    },
    {
     "name": "stderr",
     "output_type": "stream",
     "text": [
      "Loss=0.007484273985028267 Batch_id=468 Accuracy=98.66: 100%|█████████████████████████| 469/469 [00:06<00:00, 73.14it/s]\n"
     ]
    },
    {
     "name": "stdout",
     "output_type": "stream",
     "text": [
      "\n",
      "Test set: Average loss: 0.0276, Accuracy: 9914/10000 (99.14%)\n",
      "\n",
      "EPOCH: 11\n"
     ]
    },
    {
     "name": "stderr",
     "output_type": "stream",
     "text": [
      "Loss=0.010164108127355576 Batch_id=468 Accuracy=98.70: 100%|█████████████████████████| 469/469 [00:06<00:00, 72.48it/s]\n"
     ]
    },
    {
     "name": "stdout",
     "output_type": "stream",
     "text": [
      "\n",
      "Test set: Average loss: 0.0334, Accuracy: 9900/10000 (99.00%)\n",
      "\n",
      "EPOCH: 12\n"
     ]
    },
    {
     "name": "stderr",
     "output_type": "stream",
     "text": [
      "Loss=0.028820812702178955 Batch_id=468 Accuracy=98.68: 100%|█████████████████████████| 469/469 [00:06<00:00, 69.48it/s]\n"
     ]
    },
    {
     "name": "stdout",
     "output_type": "stream",
     "text": [
      "\n",
      "Test set: Average loss: 0.0343, Accuracy: 9898/10000 (98.98%)\n",
      "\n",
      "EPOCH: 13\n"
     ]
    },
    {
     "name": "stderr",
     "output_type": "stream",
     "text": [
      "Loss=0.009079201146960258 Batch_id=468 Accuracy=98.86: 100%|█████████████████████████| 469/469 [00:06<00:00, 74.31it/s]\n"
     ]
    },
    {
     "name": "stdout",
     "output_type": "stream",
     "text": [
      "\n",
      "Test set: Average loss: 0.0271, Accuracy: 9915/10000 (99.15%)\n",
      "\n",
      "EPOCH: 14\n"
     ]
    },
    {
     "name": "stderr",
     "output_type": "stream",
     "text": [
      "Loss=0.06863706558942795 Batch_id=468 Accuracy=98.81: 100%|██████████████████████████| 469/469 [00:06<00:00, 71.91it/s]\n"
     ]
    },
    {
     "name": "stdout",
     "output_type": "stream",
     "text": [
      "\n",
      "Test set: Average loss: 0.0234, Accuracy: 9921/10000 (99.21%)\n",
      "\n",
      "EPOCH: 15\n"
     ]
    },
    {
     "name": "stderr",
     "output_type": "stream",
     "text": [
      "Loss=0.03052961640059948 Batch_id=468 Accuracy=98.86: 100%|██████████████████████████| 469/469 [00:06<00:00, 72.43it/s]\n"
     ]
    },
    {
     "name": "stdout",
     "output_type": "stream",
     "text": [
      "\n",
      "Test set: Average loss: 0.0275, Accuracy: 9913/10000 (99.13%)\n",
      "\n",
      "EPOCH: 16\n"
     ]
    },
    {
     "name": "stderr",
     "output_type": "stream",
     "text": [
      "Loss=0.008419452235102654 Batch_id=468 Accuracy=98.89: 100%|█████████████████████████| 469/469 [00:06<00:00, 74.64it/s]\n"
     ]
    },
    {
     "name": "stdout",
     "output_type": "stream",
     "text": [
      "\n",
      "Test set: Average loss: 0.0251, Accuracy: 9921/10000 (99.21%)\n",
      "\n",
      "EPOCH: 17\n"
     ]
    },
    {
     "name": "stderr",
     "output_type": "stream",
     "text": [
      "Loss=0.09670418500900269 Batch_id=468 Accuracy=98.89: 100%|██████████████████████████| 469/469 [00:06<00:00, 68.90it/s]\n"
     ]
    },
    {
     "name": "stdout",
     "output_type": "stream",
     "text": [
      "\n",
      "Test set: Average loss: 0.0247, Accuracy: 9918/10000 (99.18%)\n",
      "\n",
      "EPOCH: 18\n"
     ]
    },
    {
     "name": "stderr",
     "output_type": "stream",
     "text": [
      "Loss=0.05733555182814598 Batch_id=468 Accuracy=98.95: 100%|██████████████████████████| 469/469 [00:07<00:00, 66.38it/s]\n"
     ]
    },
    {
     "name": "stdout",
     "output_type": "stream",
     "text": [
      "\n",
      "Test set: Average loss: 0.0233, Accuracy: 9933/10000 (99.33%)\n",
      "\n",
      "EPOCH: 19\n"
     ]
    },
    {
     "name": "stderr",
     "output_type": "stream",
     "text": [
      "Loss=0.005201118998229504 Batch_id=468 Accuracy=98.90: 100%|█████████████████████████| 469/469 [00:06<00:00, 71.82it/s]\n"
     ]
    },
    {
     "name": "stdout",
     "output_type": "stream",
     "text": [
      "\n",
      "Test set: Average loss: 0.0233, Accuracy: 9928/10000 (99.28%)\n",
      "\n"
     ]
    }
   ],
   "source": [
    "from torch.optim.lr_scheduler import StepLR, LambdaLR\n",
    "\n",
    "optimizer = optim.SGD(model_gn.parameters(), lr=0.01, momentum=0.9)\n",
    "# scheduler = StepLR(optimizer, step_size=4, gamma=0.1)\n",
    "scheduler = torch.optim.lr_scheduler.MultiStepLR(optimizer, milestones=[6,8,9], gamma=0.1)\n",
    "\n",
    "EPOCHS = 20\n",
    "for epoch in range(EPOCHS):\n",
    "    print(\"EPOCH:\", epoch)\n",
    "    gn_trainer.train(device, train_loader, optimizer, epoch)\n",
    "    gn_trainer.test(device, test_loader)"
   ]
  },
  {
   "cell_type": "code",
   "execution_count": 16,
   "id": "b5193924",
   "metadata": {},
   "outputs": [],
   "source": [
    "gn_train_losses, gn_train_acc, gn_test_losses, gn_test_acc = gn_trainer.get_stats()"
   ]
  },
  {
   "cell_type": "code",
   "execution_count": 28,
   "id": "008aeb29",
   "metadata": {},
   "outputs": [],
   "source": [
    "gn_misclassified_preds = get_misclassified_images(model_gn, device, test_loader)"
   ]
  },
  {
   "cell_type": "code",
   "execution_count": 30,
   "id": "54a65b5f",
   "metadata": {},
   "outputs": [
    {
     "data": {
      "image/png": "[encoded data removed]",
      "text/plain": [
       "<Figure size 800x800 with 10 Axes>"
      ]
     },
     "metadata": {},
     "output_type": "display_data"
    }
   ],
   "source": [
    "import numpy as np\n",
    "fig, axs = plt.subplots(5, 2, figsize=(8,8),squeeze=False )\n",
    "fig.tight_layout(h_pad=2)\n",
    "keys_list = iter(list(gn_misclassified_preds.keys()))\n",
    "for i in range(5):\n",
    "    for j in range(2):\n",
    "        idx = next(keys_list)\n",
    "        axs[i, j].imshow(np.transpose(gn_misclassified_preds[idx][0], (1,2,0)), cmap='gray')\n",
    "        axs[i, j].axis('off')\n",
    "        axs[i, j].set_title(f'True Label: {gn_misclassified_preds[idx][1]}\\n Pred Label:{gn_misclassified_preds[idx][2].item()}')\n",
    "        "
   ]
  },
  {
   "cell_type": "code",
   "execution_count": null,
   "id": "0fc86bd2",
   "metadata": {},
   "outputs": [],
   "source": []
  },
  {
   "cell_type": "code",
   "execution_count": null,
   "id": "2f46adaa",
   "metadata": {},
   "outputs": [],
   "source": []
  },
  {
   "cell_type": "code",
   "execution_count": null,
   "id": "84a7b2ca",
   "metadata": {},
   "outputs": [],
   "source": []
  },
  {
   "cell_type": "code",
   "execution_count": null,
   "id": "44715a1a",
   "metadata": {},
   "outputs": [],
   "source": []
  },
  {
   "cell_type": "code",
   "execution_count": null,
   "id": "3faf004b",
   "metadata": {},
   "outputs": [],
   "source": []
  },
  {
   "cell_type": "code",
   "execution_count": 33,
   "id": "60d304a2",
   "metadata": {},
   "outputs": [
    {
     "data": {
      "text/plain": [
       "<matplotlib.legend.Legend at 0x19c821245b0>"
      ]
     },
     "execution_count": 33,
     "metadata": {},
     "output_type": "execute_result"
    },
    {
     "data": {
      "image/png": "[encoded data removed]",
      "text/plain": [
       "<Figure size 640x480 with 1 Axes>"
      ]
     },
     "metadata": {},
     "output_type": "display_data"
    }
   ],
   "source": [
    "plt.plot(bn_test_losses, label=\"Batch Normalization\")\n",
    "plt.plot(gn_test_losses, label=\"Group Normalization\")\n",
    "plt.plot(ln_test_losses, label=\"Layer Normalization\")\n",
    "plt.xlabel('Epochs')\n",
    "plt.ylabel('Loss')\n",
    "plt.title(\"Epoch vs Loss for 3 Normalization Techniques\")\n",
    "plt.legend()"
   ]
  },
  {
   "cell_type": "code",
   "execution_count": 34,
   "id": "9a08e148",
   "metadata": {},
   "outputs": [
    {
     "data": {
      "text/plain": [
       "<matplotlib.legend.Legend at 0x19da25f16a0>"
      ]
     },
     "execution_count": 34,
     "metadata": {},
     "output_type": "execute_result"
    },
    {
     "data": {
      "image/png": "[encoded data removed]",
      "text/plain": [
       "<Figure size 640x480 with 1 Axes>"
      ]
     },
     "metadata": {},
     "output_type": "display_data"
    }
   ],
   "source": [
    "plt.plot(bn_test_acc, label=\"Batch Normalization\")\n",
    "plt.plot(gn_test_acc, label=\"Group Normalization\")\n",
    "plt.plot(ln_test_acc, label=\"Layer Normalization\")\n",
    "plt.xlabel('Epochs')\n",
    "plt.ylabel('Accuracy')\n",
    "plt.title(\"Epoch vs Loss for 3 Normalization Techniques\")\n",
    "plt.legend()"
   ]
  },
  {
   "cell_type": "code",
   "execution_count": null,
   "id": "5092525e",
   "metadata": {},
   "outputs": [],
   "source": []
  }
 ],
 "metadata": {
  "kernelspec": {
   "display_name": "tf",
   "language": "python",
   "name": "tf"
  },
  "language_info": {
   "codemirror_mode": {
    "name": "ipython",
    "version": 3
   },
   "file_extension": ".py",
   "mimetype": "text/x-python",
   "name": "python",
   "nbconvert_exporter": "python",
   "pygments_lexer": "ipython3",
   "version": "3.9.13"
  }
 },
 "nbformat": 4,
 "nbformat_minor": 5
}
